{
 "cells": [
  {
   "cell_type": "code",
   "execution_count": null,
   "id": "7c47c1b7",
   "metadata": {},
   "outputs": [],
   "source": [
    "import time\n",
    "import gym\n",
    "import numpy as np\n",
    "from gym import spaces\n",
    "from tqdm import tqdm\n",
    "import pandas as pd\n",
    "\n",
    "import numpy as np\n",
    "from utils.skeleton import *\n",
    "from utils.quaternion import *\n",
    "from utils.blazepose import blazepose_skeletons\n",
    "import os\n",
    "from pypot.creatures import PoppyTorso\n",
    "os.environ[\"KMP_DUPLICATE_LIB_OK\"]=\"TRUE\"\n",
    "#from pypot.creatures.ik import IKChain\n",
    "from pypot.primitive.move import Move\n",
    "from pypot.primitive.move import MovePlayer\n",
    "\n",
    "import sys\n",
    "sys.path.append('E:\\Anaconda\\envs\\gym-examples')\n",
    "import gym_examples\n",
    "from gym.wrappers import FlattenObservation\n",
    "\n",
    "from stable_baselines3 import DDPG\n",
    "from stable_baselines3.common.noise import NormalActionNoise, OrnsteinUhlenbeckActionNoise"
   ]
  },
  {
   "cell_type": "markdown",
   "id": "bfaebedd",
   "metadata": {},
   "source": [
    "# Train"
   ]
  },
  {
   "cell_type": "markdown",
   "id": "807993bc",
   "metadata": {},
   "source": [
    "For the sampling factor of 5, we use just 15 epoches.\n",
    "\n",
    "if  dis <=0.3:\n",
    "            reward = np.exp(-10*dis)\n",
    "else:\n",
    "            reward = 0"
   ]
  },
  {
   "cell_type": "code",
   "execution_count": null,
   "id": "238796fd",
   "metadata": {
    "scrolled": true
   },
   "outputs": [],
   "source": [
    "env = gym.make('gym_examples/Poppy-v0')\n",
    "env.reset()"
   ]
  },
  {
   "cell_type": "code",
   "execution_count": null,
   "id": "bd8c2cc6",
   "metadata": {},
   "outputs": [],
   "source": [
    "# from stable_baselines3.common.env_checker import check_env\n",
    "# check_env(env)"
   ]
  },
  {
   "cell_type": "code",
   "execution_count": null,
   "id": "c1f61b4a",
   "metadata": {
    "scrolled": true
   },
   "outputs": [],
   "source": [
    "from stable_baselines3 import DDPG\n",
    "from stable_baselines3.common.noise import NormalActionNoise, OrnsteinUhlenbeckActionNoise\n",
    "\n",
    "# The noise objects for DDPG\n",
    "n_actions = env.action_space.shape[-1]\n",
    "action_noise = NormalActionNoise(mean=np.zeros(n_actions), sigma=0.15 * np.ones(n_actions))\n",
    "\n",
    "model = DDPG(\"MlpPolicy\", env, action_noise=action_noise, verbose=1,batch_size = 57 )\n",
    "model.learn(total_timesteps= 57*15)\n",
    "\n",
    "info = pd.DataFrame(env.infos)\n",
    "info.to_pickle('info.pkl')\n",
    "# info = pd.read_pickle('info.pkl')\n",
    "\n",
    "model.save(\"ddpg_imitation\")\n",
    "vec_env = model.get_env()\n"
   ]
  },
  {
   "cell_type": "markdown",
   "id": "11064308",
   "metadata": {},
   "source": [
    "# Test\n",
    "For training, we can stop here. We can begin the test.\n",
    "We can clear all the history data firstly."
   ]
  },
  {
   "cell_type": "code",
   "execution_count": 1,
   "id": "e7709305",
   "metadata": {},
   "outputs": [],
   "source": [
    "import time\n",
    "import gym\n",
    "import numpy as np\n",
    "from gym import spaces\n",
    "from tqdm import tqdm\n",
    "import pandas as pd\n",
    "\n",
    "import numpy as np\n",
    "from utils.skeleton import *\n",
    "from utils.quaternion import *\n",
    "from utils.blazepose import blazepose_skeletons\n",
    "import os\n",
    "from pypot.creatures import PoppyTorso\n",
    "os.environ[\"KMP_DUPLICATE_LIB_OK\"]=\"TRUE\"\n",
    "#from pypot.creatures.ik import IKChain\n",
    "from pypot.primitive.move import Move\n",
    "from pypot.primitive.move import MovePlayer\n",
    "\n",
    "import sys\n",
    "sys.path.append('E:\\Anaconda\\envs\\gym-examples')\n",
    "import gym_examples\n",
    "from gym.wrappers import FlattenObservation\n",
    "\n",
    "from stable_baselines3 import DDPG\n",
    "from stable_baselines3.common.noise import NormalActionNoise, OrnsteinUhlenbeckActionNoise"
   ]
  },
  {
   "cell_type": "code",
   "execution_count": 2,
   "id": "19a25401",
   "metadata": {
    "scrolled": true
   },
   "outputs": [
    {
     "name": "stdout",
     "output_type": "stream",
     "text": [
      "pygame 2.1.0 (SDL 2.0.16, Python 3.10.9)\n",
      "Hello from the pygame community. https://www.pygame.org/contribute.html\n",
      "Hello, I am Poppy!\n"
     ]
    },
    {
     "name": "stderr",
     "output_type": "stream",
     "text": [
      "E:\\Anaconda\\lib\\site-packages\\gym\\spaces\\box.py:73: UserWarning: \u001b[33mWARN: Box bound precision lowered by casting to float32\u001b[0m\n",
      "  logger.warn(\n"
     ]
    },
    {
     "data": {
      "text/plain": [
       "array([ 0.10257855,  0.00415997, -0.10847217, -0.10551344, -0.00023938,\n",
       "       -0.1085    ], dtype=float32)"
      ]
     },
     "execution_count": 2,
     "metadata": {},
     "output_type": "execute_result"
    }
   ],
   "source": [
    "env = gym.make('gym_examples/Poppy-v0')\n",
    "env.reset()"
   ]
  },
  {
   "cell_type": "code",
   "execution_count": 3,
   "id": "a2949ac5",
   "metadata": {},
   "outputs": [
    {
     "name": "stdout",
     "output_type": "stream",
     "text": [
      "reward :  0\n",
      "current step :  5\n",
      "episode :  0\n",
      "reward :  0\n",
      "current step :  10\n",
      "episode :  0\n",
      "reward :  0\n",
      "current step :  15\n",
      "episode :  0\n",
      "reward :  0\n",
      "current step :  20\n",
      "episode :  0\n",
      "reward :  0\n",
      "current step :  25\n",
      "episode :  0\n",
      "reward :  0\n",
      "current step :  30\n",
      "episode :  0\n",
      "reward :  0.06026057910392684\n",
      "current step :  35\n",
      "episode :  0\n",
      "reward :  0.1366728231658167\n",
      "current step :  40\n",
      "episode :  0\n",
      "reward :  0.2280955066909602\n",
      "current step :  45\n",
      "episode :  0\n",
      "reward :  0.1922196537309281\n",
      "current step :  50\n",
      "episode :  0\n",
      "reward :  0.0971303086375319\n",
      "current step :  55\n",
      "episode :  0\n",
      "reward :  0.0980593844686704\n",
      "current step :  60\n",
      "episode :  0\n",
      "reward :  0.10237653015320221\n",
      "current step :  65\n",
      "episode :  0\n",
      "reward :  0.10226251823150004\n",
      "current step :  70\n",
      "episode :  0\n",
      "reward :  0.08954765757926686\n",
      "current step :  75\n",
      "episode :  0\n",
      "reward :  0.07683109758497131\n",
      "current step :  80\n",
      "episode :  0\n",
      "reward :  0.0743995134179756\n",
      "current step :  85\n",
      "episode :  0\n",
      "reward :  0.08291672112443373\n",
      "current step :  90\n",
      "episode :  0\n",
      "reward :  0\n",
      "current step :  95\n",
      "episode :  0\n",
      "reward :  0\n",
      "current step :  100\n",
      "episode :  0\n",
      "reward :  0\n",
      "current step :  105\n",
      "episode :  0\n",
      "reward :  0\n",
      "current step :  110\n",
      "episode :  0\n",
      "reward :  0\n",
      "current step :  115\n",
      "episode :  0\n",
      "reward :  0\n",
      "current step :  120\n",
      "episode :  0\n",
      "reward :  0\n",
      "current step :  125\n",
      "episode :  0\n",
      "reward :  0\n",
      "current step :  130\n",
      "episode :  0\n",
      "reward :  0.23813629950712845\n",
      "current step :  135\n",
      "episode :  0\n",
      "reward :  0\n",
      "current step :  140\n",
      "episode :  0\n",
      "reward :  0\n",
      "current step :  145\n",
      "episode :  0\n",
      "reward :  0\n",
      "current step :  150\n",
      "episode :  0\n",
      "reward :  0\n",
      "current step :  155\n",
      "episode :  0\n",
      "reward :  0\n",
      "current step :  160\n",
      "episode :  0\n",
      "reward :  0.09857480373962445\n",
      "current step :  165\n",
      "episode :  0\n",
      "reward :  0.2123670496738284\n",
      "current step :  170\n",
      "episode :  0\n",
      "reward :  0.36863361567629627\n",
      "current step :  175\n",
      "episode :  0\n",
      "reward :  0.5276377289681469\n",
      "current step :  180\n",
      "episode :  0\n",
      "reward :  0.6027259004863191\n",
      "current step :  185\n",
      "episode :  0\n",
      "reward :  0.6399827531843661\n",
      "current step :  190\n",
      "episode :  0\n",
      "reward :  0.6492157023765328\n",
      "current step :  195\n",
      "episode :  0\n",
      "reward :  0.6537681292688662\n",
      "current step :  200\n",
      "episode :  0\n",
      "reward :  0.6444540889264675\n",
      "current step :  205\n",
      "episode :  0\n",
      "reward :  0.6138642151352082\n",
      "current step :  210\n",
      "episode :  0\n",
      "reward :  0.5389125377181238\n",
      "current step :  215\n",
      "episode :  0\n",
      "reward :  0.42162941465969195\n",
      "current step :  220\n",
      "episode :  0\n",
      "reward :  0.25092112556739743\n",
      "current step :  225\n",
      "episode :  0\n",
      "reward :  0.13377135417443062\n",
      "current step :  230\n",
      "episode :  0\n",
      "reward :  0.066263139755906\n",
      "current step :  235\n",
      "episode :  0\n",
      "reward :  0\n",
      "current step :  240\n",
      "episode :  0\n",
      "reward :  0\n",
      "current step :  245\n",
      "episode :  0\n",
      "reward :  0\n",
      "current step :  250\n",
      "episode :  0\n",
      "reward :  0\n",
      "current step :  255\n",
      "episode :  0\n",
      "reward :  0\n",
      "current step :  260\n",
      "episode :  0\n",
      "reward :  0\n",
      "current step :  265\n",
      "episode :  0\n",
      "reward :  0\n",
      "current step :  270\n",
      "episode :  0\n",
      "reward :  0\n",
      "current step :  275\n",
      "episode :  0\n",
      "reward :  0\n",
      "current step :  280\n",
      "episode :  0\n",
      "reward :  0\n",
      "current step :  285\n",
      "episode :  0\n",
      "reward :  0\n",
      "current step :  290\n",
      "episode :  1\n"
     ]
    }
   ],
   "source": [
    "model = DDPG.load(\"ddpg_imitation\")\n",
    "\n",
    "obs = env.reset()\n",
    "k =0\n",
    "while True:\n",
    "    action, _states = model.predict(obs)\n",
    "    obs, rewards, dones, info = env.step(action)\n",
    "    k  += 5\n",
    "    \n",
    "    if k >= 286 :\n",
    "        break\n",
    "        obs = env.reset()\n",
    "        k = 0\n",
    "        \n"
   ]
  },
  {
   "cell_type": "code",
   "execution_count": null,
   "id": "c314bfa5",
   "metadata": {},
   "outputs": [],
   "source": []
  },
  {
   "cell_type": "code",
   "execution_count": null,
   "id": "12c688d0",
   "metadata": {},
   "outputs": [],
   "source": []
  },
  {
   "cell_type": "code",
   "execution_count": null,
   "id": "9be1a0ae",
   "metadata": {},
   "outputs": [],
   "source": []
  },
  {
   "cell_type": "code",
   "execution_count": 4,
   "id": "479c4861",
   "metadata": {},
   "outputs": [],
   "source": [
    "info = pd.DataFrame(env.infos)\n",
    "info.to_pickle('info.pkl')"
   ]
  },
  {
   "cell_type": "code",
   "execution_count": 5,
   "id": "46c8828a",
   "metadata": {},
   "outputs": [
    {
     "data": {
      "text/plain": [
       "[<matplotlib.lines.Line2D at 0x19229a5c400>]"
      ]
     },
     "execution_count": 5,
     "metadata": {},
     "output_type": "execute_result"
    },
    {
     "data": {
      "image/png": "[encoded data removed]",
      "text/plain": [
       "<Figure size 640x480 with 1 Axes>"
      ]
     },
     "metadata": {},
     "output_type": "display_data"
    }
   ],
   "source": [
    "info = pd.read_pickle('info.pkl')\n",
    "t=[]\n",
    "for ep in info['episode'].unique():\n",
    "      t.append(info[info['episode']==ep]['reward'].mean())\n",
    "plt.plot(t)"
   ]
  },
  {
   "cell_type": "code",
   "execution_count": 6,
   "id": "22bea98a",
   "metadata": {},
   "outputs": [
    {
     "data": {
      "text/plain": [
       "array([ 1.06023309e-01,  3.64838174e-03,  5.47499507e-01, -1.05513436e-01,\n",
       "       -2.39384351e-04, -1.08499994e-01])"
      ]
     },
     "execution_count": 6,
     "metadata": {},
     "output_type": "execute_result"
    }
   ],
   "source": [
    "env.get_obs()"
   ]
  },
  {
   "cell_type": "code",
   "execution_count": 7,
   "id": "80057415",
   "metadata": {},
   "outputs": [
    {
     "data": {
      "text/plain": [
       "2.0"
      ]
     },
     "execution_count": 7,
     "metadata": {},
     "output_type": "execute_result"
    }
   ],
   "source": [
    "np.linalg.norm([1,1],1)"
   ]
  },
  {
   "cell_type": "code",
   "execution_count": 8,
   "id": "4e9eb6cf",
   "metadata": {},
   "outputs": [
    {
     "data": {
      "text/plain": [
       "array([ 0.08543036,  0.00327208, -0.10788821, -0.10551344, -0.00023938,\n",
       "       -0.1085    ], dtype=float32)"
      ]
     },
     "execution_count": 8,
     "metadata": {},
     "output_type": "execute_result"
    }
   ],
   "source": [
    "env.reset()"
   ]
  },
  {
   "cell_type": "code",
   "execution_count": 9,
   "id": "d5e17413",
   "metadata": {},
   "outputs": [
    {
     "data": {
      "text/plain": [
       "array([ 0.10029976,  0.00354554, -0.10845953, -0.10551344, -0.00023938,\n",
       "       -0.1085    ], dtype=float32)"
      ]
     },
     "execution_count": 9,
     "metadata": {},
     "output_type": "execute_result"
    }
   ],
   "source": [
    "env.reset()"
   ]
  },
  {
   "cell_type": "code",
   "execution_count": 10,
   "id": "01f414b7",
   "metadata": {},
   "outputs": [],
   "source": [
    "env.poppy.l_shoulder_y.goto_position(-0,3,wait=True)\n",
    "env.poppy.l_shoulder_x.goto_position(0,3,wait=True)\n",
    "env.poppy.abs_z.goto_position(-0,3,wait=True)"
   ]
  },
  {
   "cell_type": "code",
   "execution_count": 11,
   "id": "339415d5",
   "metadata": {},
   "outputs": [],
   "source": [
    "env.poppy.r_shoulder_y.goto_position(-0,3,wait=True)\n",
    "env.poppy.r_shoulder_x.goto_position(0,3,wait=True)\n",
    "env.poppy.abs_z.goto_position(-0,3,wait=True)"
   ]
  },
  {
   "cell_type": "code",
   "execution_count": 12,
   "id": "bf1d2073",
   "metadata": {},
   "outputs": [],
   "source": [
    "joint_pos = { 'l_elbow_y':0.0,\n",
    "                     'head_y': 0.0,\n",
    "                     'r_arm_z': 0.0, \n",
    "                     'head_z': 0.0,\n",
    "                     'r_shoulder_x': 0.0, \n",
    "                     'r_shoulder_y': 0.0,\n",
    "                     'r_elbow_y': 0.0, \n",
    "                     'l_arm_z': 0.0,\n",
    "                     'abs_z': 0.0,\n",
    "                     'bust_y': 0.0, \n",
    "                     'bust_x':0.0,\n",
    "                     'l_shoulder_x': 0.0,\n",
    "                     'l_shoulder_y': 0.0\n",
    "                    }\n",
    "        \n",
    "for m in env.poppy.motors:\n",
    "               m.goto_position(joint_pos[m.name], 3, wait= True)\n",
    "        "
   ]
  },
  {
   "cell_type": "code",
   "execution_count": null,
   "id": "56e9eb70",
   "metadata": {},
   "outputs": [],
   "source": []
  }
 ],
 "metadata": {
  "kernelspec": {
   "display_name": "Python 3 (ipykernel)",
   "language": "python",
   "name": "python3"
  },
  "language_info": {
   "codemirror_mode": {
    "name": "ipython",
    "version": 3
   },
   "file_extension": ".py",
   "mimetype": "text/x-python",
   "name": "python",
   "nbconvert_exporter": "python",
   "pygments_lexer": "ipython3",
   "version": "3.10.9"
  }
 },
 "nbformat": 4,
 "nbformat_minor": 5
}
